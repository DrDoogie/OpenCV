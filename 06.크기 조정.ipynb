{
 "cells": [
  {
   "cell_type": "markdown",
   "id": "fa24264c",
   "metadata": {},
   "source": [
    "# 6.크기 조정\n",
    "## 이미지 \n",
    "## 고정 크기로 설정\n"
   ]
  },
  {
   "cell_type": "code",
   "execution_count": 2,
   "id": "d20a9ab4",
   "metadata": {},
   "outputs": [],
   "source": [
    "import cv2\n",
    "img = cv2.imread('dog.jpg')\n",
    "dst = cv2.resize(img,(400,500))\n",
    "\n",
    "cv2.imshow('img',img)\n",
    "cv2.imshow('resize',dst)\n",
    "cv2.waitKey(0)\n",
    "cv2.destroyAllWindows()"
   ]
  },
  {
   "cell_type": "markdown",
   "id": "7123ce0c",
   "metadata": {},
   "source": [
    "# 비율로 조정"
   ]
  },
  {
   "cell_type": "code",
   "execution_count": 5,
   "id": "a2be23e2",
   "metadata": {},
   "outputs": [],
   "source": [
    "import cv2\n",
    "img = cv2.imread('dog.jpg')\n",
    "dst = cv2.resize(img,None, fx=2,fy=2)\n",
    "\n",
    "cv2.imshow('img',img)\n",
    "cv2.imshow('resize',dst)\n",
    "cv2.waitKey(0)\n",
    "cv2.destroyAllWindows()"
   ]
  },
  {
   "cell_type": "markdown",
   "id": "70eae38d",
   "metadata": {},
   "source": [
    "# 보간법"
   ]
  },
  {
   "cell_type": "markdown",
   "id": "d4ce793c",
   "metadata": {},
   "source": [
    "### cv2.INTER_AREA : 크기 줄일때 사용\n",
    "### cv2.INTER_CUBIC : 크기 늘릴때 사용\n"
   ]
  },
  {
   "cell_type": "code",
   "execution_count": 6,
   "id": "63dc009c",
   "metadata": {},
   "outputs": [],
   "source": [
    "import cv2\n",
    "img = cv2.imread('dog.jpg')\n",
    "dst = cv2.resize(img,None, fx=2,fy=2,interpolation = cv2.INTER_AREA)\n",
    "\n",
    "cv2.imshow('img',img)\n",
    "cv2.imshow('resize',dst)\n",
    "cv2.waitKey(0)\n",
    "cv2.destroyAllWindows()"
   ]
  },
  {
   "cell_type": "code",
   "execution_count": 7,
   "id": "a9881c96",
   "metadata": {},
   "outputs": [],
   "source": [
    "import cv2\n",
    "img = cv2.imread('dog.jpg')\n",
    "dst = cv2.resize(img,None, fx=2,fy=2,interpolation = cv2.INTER_CUBIC)\n",
    "\n",
    "cv2.imshow('img',img)\n",
    "cv2.imshow('resize',dst)\n",
    "cv2.waitKey(0)\n",
    "cv2.destroyAllWindows()"
   ]
  },
  {
   "cell_type": "markdown",
   "id": "2f777f58",
   "metadata": {},
   "source": [
    "# 동영상\n"
   ]
  },
  {
   "cell_type": "code",
   "execution_count": 9,
   "id": "e1174e1a",
   "metadata": {},
   "outputs": [],
   "source": [
    "#동영상 저장하기\n",
    "import cv2\n",
    "cap = cv2.VideoCapture('dog.mp4')\n",
    "\n",
    "while cap.isOpened():\n",
    "    ret, frame = cap.read()\n",
    "    \n",
    "    if not ret:\n",
    "        break\n",
    "    frame_resize = cv2.resize(frame,None,fx=1.5,fy=1.5,interpolation=cv2.INTER_CUBIC)\n",
    "    cv2.imshow('dog',frame)\n",
    "    if cv2.waitKey(1)== ord('q'):\n",
    "        break\n",
    "cap.release()\n",
    "cv2.destroyAllWindows()"
   ]
  }
 ],
 "metadata": {
  "kernelspec": {
   "display_name": "Python 3",
   "language": "python",
   "name": "python3"
  },
  "language_info": {
   "codemirror_mode": {
    "name": "ipython",
    "version": 3
   },
   "file_extension": ".py",
   "mimetype": "text/x-python",
   "name": "python",
   "nbconvert_exporter": "python",
   "pygments_lexer": "ipython3",
   "version": "3.8.8"
  }
 },
 "nbformat": 4,
 "nbformat_minor": 5
}
