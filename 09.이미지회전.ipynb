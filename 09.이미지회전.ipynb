{
 "cells": [
  {
   "cell_type": "markdown",
   "id": "7c6fd19a",
   "metadata": {},
   "source": [
    "# 이미지회전"
   ]
  },
  {
   "cell_type": "markdown",
   "id": "acf6b362",
   "metadata": {},
   "source": [
    "## 시계방향회전"
   ]
  },
  {
   "cell_type": "code",
   "execution_count": 3,
   "id": "ac96fa38",
   "metadata": {},
   "outputs": [],
   "source": [
    "import cv2\n",
    "img = cv2.imread('dog.jpg')\n",
    "\n",
    "rotate_90 = cv2.rotate(img,cv2.ROTATE_90_CLOCKWISE)  #시계방향으로 90도 회전\n",
    "\n",
    "cv2.imshow('img',img)\n",
    "cv2.imshow('rotate_90',rotate_90)\n",
    "cv2.waitKey(0)\n",
    "cv2.destroyAllWindows()"
   ]
  },
  {
   "cell_type": "markdown",
   "id": "686f2863",
   "metadata": {},
   "source": [
    "## 180도 회전"
   ]
  },
  {
   "cell_type": "code",
   "execution_count": 5,
   "id": "c99f7663",
   "metadata": {},
   "outputs": [],
   "source": [
    "import cv2\n",
    "img = cv2.imread('dog.jpg')\n",
    "\n",
    "rotate_180 = cv2.rotate(img,cv2.ROTATE_180)  #시계방향으로 180도 회전\n",
    "\n",
    "cv2.imshow('img',img)\n",
    "cv2.imshow('rotate_180',rotate_180)\n",
    "cv2.waitKey(0)\n",
    "cv2.destroyAllWindows()"
   ]
  },
  {
   "cell_type": "markdown",
   "id": "4c75ebcc",
   "metadata": {},
   "source": [
    "## 시계 반대 방향으로 90도 회전"
   ]
  },
  {
   "cell_type": "code",
   "execution_count": 7,
   "id": "71ed5729",
   "metadata": {},
   "outputs": [],
   "source": [
    "import cv2\n",
    "img = cv2.imread('dog.jpg')\n",
    "\n",
    "rotate_270 = cv2.rotate(img,cv2.ROTATE_90_COUNTERCLOCKWISE)  #시계방향으로 90도 회전\n",
    "\n",
    "cv2.imshow('img',img)\n",
    "cv2.imshow('rotate_270',rotate_270)\n",
    "cv2.waitKey(0)\n",
    "cv2.destroyAllWindows()"
   ]
  }
 ],
 "metadata": {
  "kernelspec": {
   "display_name": "Python 3",
   "language": "python",
   "name": "python3"
  },
  "language_info": {
   "codemirror_mode": {
    "name": "ipython",
    "version": 3
   },
   "file_extension": ".py",
   "mimetype": "text/x-python",
   "name": "python",
   "nbconvert_exporter": "python",
   "pygments_lexer": "ipython3",
   "version": "3.8.8"
  }
 },
 "nbformat": 4,
 "nbformat_minor": 5
}
