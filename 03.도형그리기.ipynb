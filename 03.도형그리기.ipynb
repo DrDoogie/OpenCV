{
 "cells": [
  {
   "cell_type": "markdown",
   "id": "86df38bd",
   "metadata": {},
   "source": [
    "# 3.도형 그리기"
   ]
  },
  {
   "cell_type": "markdown",
   "id": "386cd006",
   "metadata": {},
   "source": [
    "## 빈 스케치북 만들기"
   ]
  },
  {
   "cell_type": "code",
   "execution_count": 13,
   "id": "3b02936b",
   "metadata": {},
   "outputs": [],
   "source": [
    "import cv2\n",
    "import numpy as np\n",
    "\n",
    "#세로 480 x 가로 640 , 3 channel (RGB) 에 해당하는 스케치북 만들기\n",
    "img = np.zeros((480,640,3))\n",
    "#img[:] = (255,255,255) # 전체 공간을 흰색으로 만들기  B G R \n",
    "img[:] = (255,0,0) # 전체 공간을 흰색으로 만들기  B G R \n",
    "#print(img)\n",
    "cv2. imshow('img',img)\n",
    "cv2.waitKey(0)\n",
    "cv2.destroyAllWindows()"
   ]
  },
  {
   "cell_type": "markdown",
   "id": "cf8d0489",
   "metadata": {},
   "source": [
    "## 일부 영역 색칠"
   ]
  },
  {
   "cell_type": "code",
   "execution_count": 15,
   "id": "70678d83",
   "metadata": {},
   "outputs": [],
   "source": [
    "import cv2\n",
    "import numpy as np\n",
    "\n",
    "img = np.zeros((480,640,3))\n",
    "img[100:200,200:300] = (255,255,255)\n",
    "#세로 영역 가로영역 기준으로 색을 채운다\n",
    "\n",
    "#print(img)\n",
    "cv2. imshow('img',img)\n",
    "cv2.waitKey(0)\n",
    "cv2.destroyAllWindows()"
   ]
  },
  {
   "cell_type": "markdown",
   "id": "f1170642",
   "metadata": {},
   "source": [
    "# 직선 그리기 \n",
    "## 직선의 종류\n",
    "\n",
    "1. cv2.LINE_4 : 상하 좌우로 4방향으로 연결된 선 \n",
    "1. cv2.LINE_8 : 대각선을 포함한 8 방향으로 연결된 선(기본 값)\n",
    "1. cv2.LINE_AA : 부드러운 선 (anti-aliasing)"
   ]
  },
  {
   "cell_type": "code",
   "execution_count": 18,
   "id": "2bae1547",
   "metadata": {},
   "outputs": [],
   "source": [
    "import cv2\n",
    "import numpy as np\n",
    "\n",
    "img = np.zeros((480,640,3))\n",
    "COLOR = (0,255,255)\n",
    "THICKNESS = 3\n",
    "cv2.line(img, (50,100),(400,50),COLOR, THICKNESS,cv2.LINE_8)\n",
    "# 그릴 위치,시작점, 끝점,색깔, 두께, 선종류\n",
    "ㅠ\n",
    "cv2.line(img, (50,200),(400,50),COLOR, THICKNESS,cv2.LINE_4)\n",
    "cv2.line(img, (50,300),(400,50),COLOR, THICKNESS,cv2.LINE_AA)\n",
    "cv2. imshow('img',img)\n",
    "cv2.waitKey(0)\n",
    "cv2.destroyAllWindows()"
   ]
  },
  {
   "cell_type": "markdown",
   "id": "3b965090",
   "metadata": {},
   "source": [
    "# 원 그리기"
   ]
  },
  {
   "cell_type": "code",
   "execution_count": 25,
   "id": "39749fb0",
   "metadata": {},
   "outputs": [],
   "source": [
    "import cv2\n",
    "import numpy as np\n",
    "\n",
    "img = np.zeros((480,640,3))\n",
    "COLOR = (255,255,0)\n",
    "RADIUS = 50\n",
    "THICKNESS= 10\n",
    "\n",
    "cv2.circle(img, (200,100),RADIUS,COLOR,THICKNESS,cv2.LINE_AA)\n",
    "cv2.circle(img, (400,100),RADIUS,COLOR,cv2.FILLED,cv2.LINE_AA)\n",
    "# 속이 빈 원\n",
    "cv2. imshow('img',img)\n",
    "cv2.waitKey(0)\n",
    "cv2.destroyAllWindows()"
   ]
  },
  {
   "cell_type": "markdown",
   "id": "1b00f11c",
   "metadata": {},
   "source": [
    "# 사각형 그리기"
   ]
  },
  {
   "cell_type": "code",
   "execution_count": 4,
   "id": "6ce60b94",
   "metadata": {},
   "outputs": [],
   "source": [
    "import cv2\n",
    "import numpy as np\n",
    "\n",
    "img = np.zeros((480,640,3))\n",
    "#COLOR = (255,0,255)\n",
    "COLOR = (255,0,255)\n",
    "RADIUS = 30\n",
    "\n",
    "THICKNESS= 3\n",
    "\n",
    "cv2.rectangle(img, (50,100),(100,200),COLOR,THICKNESS,cv2.LINE_AA)\n",
    "cv2.rectangle(img, (150,100),(250,300),COLOR,cv2.FILLED,cv2.LINE_AA)\n",
    "cv2.rectangle(img, (300,100),(350,200),COLOR,THICKNESS,cv2.LINE_AA)\n",
    "# 그릴 위치 왼쪽 위 좌표, 오른쪽 아래 좌표, 색깔 ,두께\n",
    "cv2.rectangle(img, (50,350),(350,380),COLOR,THICKNESS,cv2.LINE_AA)\n",
    "\n",
    "cv2.circle(img, (80,280),RADIUS,COLOR,THICKNESS,cv2.LINE_AA)\n",
    "cv2.circle(img, (320,280),RADIUS,COLOR,THICKNESS,cv2.LINE_AA)\n",
    "\n",
    "cv2. imshow('img',img)\n",
    "cv2.waitKey(0)\n",
    "\n",
    "cv2.destroyAllWindows()\n",
    "\n",
    "\n"
   ]
  },
  {
   "cell_type": "markdown",
   "id": "5fdafca9",
   "metadata": {},
   "source": [
    "# 다각형"
   ]
  },
  {
   "cell_type": "code",
   "execution_count": 12,
   "id": "f2460dd4",
   "metadata": {},
   "outputs": [],
   "source": [
    "import cv2\n",
    "import numpy as np\n",
    "\n",
    "img = np.zeros((480,640,3))\n",
    "COLOR = (0,0,255)\n",
    "THICKNESS= 3\n",
    "pts1= np.array([[100,100],[200,100],[100,200]])\n",
    "pts2= np.array([[200,100],[300,100],[300,200]])\n",
    "\n",
    "#cv2.polylines(img,[pts1],True,COLOR,THICKNESS,cv2.LINE_AA)\n",
    "#cv2.polylines(img,[pts2],True,COLOR,THICKNESS,cv2.LINE_AA)\n",
    "#cv2.polylines(img,[pts1],False,COLOR,THICKNESS,cv2.LINE_AA)\n",
    "# 그릴 위치 , 그릴 좌표들, 닫힘 여부,색깔,두께, 선종류\n",
    "\n",
    "cv2.polylines(img,[pts1,pts2],True,COLOR,THICKNESS,cv2.LINE_AA) # 속이 빈 다각형\n",
    "\n",
    "pts3=np.array([[[100,300],[200,300],[100,400]],[[200,300],[300,300],[300,400]]])\n",
    "cv2.fillPoly(img,pts3,COLOR,cv2.LINE_AA)\n",
    "\n",
    "cv2. imshow('img',img)\n",
    "cv2.waitKey(0)\n",
    "\n",
    "cv2.destroyAllWindows()\n",
    "\n",
    "\n"
   ]
  },
  {
   "cell_type": "code",
   "execution_count": null,
   "id": "806c1e4a",
   "metadata": {},
   "outputs": [],
   "source": []
  }
 ],
 "metadata": {
  "kernelspec": {
   "display_name": "Python 3",
   "language": "python",
   "name": "python3"
  },
  "language_info": {
   "codemirror_mode": {
    "name": "ipython",
    "version": 3
   },
   "file_extension": ".py",
   "mimetype": "text/x-python",
   "name": "python",
   "nbconvert_exporter": "python",
   "pygments_lexer": "ipython3",
   "version": "3.8.8"
  }
 },
 "nbformat": 4,
 "nbformat_minor": 5
}
