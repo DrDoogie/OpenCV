{
 "cells": [
  {
   "cell_type": "code",
   "execution_count": 3,
   "metadata": {},
   "outputs": [
    {
     "data": {
      "text/plain": [
       "True"
      ]
     },
     "execution_count": 3,
     "metadata": {},
     "output_type": "execute_result"
    }
   ],
   "source": [
    "import cv2\n",
    "img = cv2.imread('shape.png', 0)\n",
    "img2=cv2.resize(img, (500, 500))\n",
    "cv2.imwrite(\"shape.png\", img2)           \n",
    "           "
   ]
  },
  {
   "cell_type": "code",
   "execution_count": 4,
   "metadata": {},
   "outputs": [],
   "source": [
    "#Chapter6_1.1 라벨링 알고리즘\n",
    "\n",
    "\n",
    "def labelset(img, xs, ys, label):\n",
    "    height, width = img.shape\n",
    "    img[ys, xs] = label\n",
    "    while True:\n",
    "        cnt = 0\n",
    "        for y in range(1, height - 1):\n",
    "            for x in range(1, width - 1):\n",
    "                if img [y, x+1] ==255:\n",
    "                    img [y,x+1 ] = label; cnt=cnt+1\n",
    "                if img [y-1, x+1] ==255:\n",
    "                    img [y-1,x+1 ] = label; cnt=cnt+1\n",
    "                if img [y-1, x] ==255:\n",
    "                    img [y-1,x ] = label; cnt=cnt+1\n",
    "                if img [y-1, x-1] ==255:\n",
    "                    img [y-1,x-1 ] = label; cnt=cnt+1\n",
    "                if img [y, x-1] ==255:\n",
    "                    img [y,x-1 ] = label; cnt=cnt+1   \n",
    "                if img [y+1, x-1] ==255:\n",
    "                    img [y+1,x-1 ] = label; cnt=cnt+1\n",
    "                if img [y+1, x] ==255:\n",
    "                    img [y+1,x ] = label; cnt=cnt+1\n",
    "                if img [y+1, x+1] ==255:\n",
    "                    img [y+1,x+1 ] = label; cnt=cnt+1\n",
    "                # ... (다른 if 문들은 생략)\n",
    "        if cnt == 0:\n",
    "            return (0, img)\n",
    "    return (1,img)\n",
    " \n",
    "\n",
    " \n",
    "def labeling(img_in, base=100):\n",
    "    height, width = img_in.shape\n",
    "    img_label = img_in.copy()\n",
    "\n",
    "    label = base  # 수정: Base가 base로 변경되었습니다.\n",
    "\n",
    "    for y in range(1, height - 1):\n",
    "        for x in range(1, width - 1):\n",
    "            if img_label[y, x] == 255:\n",
    "                if label >= 255:\n",
    "                    print(\"Error! Too many labels\")\n",
    "                    return -1\n",
    "\n",
    "                _, img_label = labelset(img_label, x, y, label)  # 수정: labeltest가 labelset으로 변경되었습니다.\n",
    "                label = label + 1\n",
    "    cnt = label - base  # 수정: Base가 base로 변경되었습니다.\n",
    "    return img_label, cnt\n",
    "\n",
    "\n",
    "import cv2\n",
    "img = cv2.imread('shape.png', 0)\n",
    "_, bin_img = cv2.threshold(img, 128, 255, cv2.THRESH_BINARY)\n",
    "\n",
    "labeled_img, cnt = labeling(bin_img)\n",
    "cv2.imshow('image', img)\n",
    "cv2.imshow(\"Labeling\", labeled_img)\n",
    "cv2.waitKey(0)\n",
    "cv2.destroyAllWindows()\n",
    "\n",
    "\n",
    "\n",
    "\n"
   ]
  },
  {
   "cell_type": "code",
   "execution_count": null,
   "metadata": {},
   "outputs": [],
   "source": []
  }
 ],
 "metadata": {
  "kernelspec": {
   "display_name": "Python 3",
   "language": "python",
   "name": "python3"
  },
  "language_info": {
   "codemirror_mode": {
    "name": "ipython",
    "version": 3
   },
   "file_extension": ".py",
   "mimetype": "text/x-python",
   "name": "python",
   "nbconvert_exporter": "python",
   "pygments_lexer": "ipython3",
   "version": "3.11.4"
  },
  "orig_nbformat": 4
 },
 "nbformat": 4,
 "nbformat_minor": 2
}
