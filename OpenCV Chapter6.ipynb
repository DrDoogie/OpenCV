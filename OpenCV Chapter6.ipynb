{
 "cells": [
  {
   "cell_type": "code",
   "execution_count": 3,
   "metadata": {},
   "outputs": [
    {
     "data": {
      "text/plain": [
       "True"
      ]
     },
     "execution_count": 3,
     "metadata": {},
     "output_type": "execute_result"
    }
   ],
   "source": [
    "import cv2\n",
    "img = cv2.imread('shape.png', 0)\n",
    "img2=cv2.resize(img, (500, 500))\n",
    "cv2.imwrite(\"shape.png\", img2)           \n",
    "           "
   ]
  },
  {
   "cell_type": "code",
   "execution_count": 11,
   "metadata": {},
   "outputs": [
    {
     "data": {
      "text/plain": [
       "True"
      ]
     },
     "execution_count": 11,
     "metadata": {},
     "output_type": "execute_result"
    }
   ],
   "source": [
    "import cv2\n",
    "img = cv2.imread('SI.jpg')\n",
    "img2=cv2.resize(img, (500, 500))\n",
    "cv2.imwrite(\"SI.jpg\", img2)       "
   ]
  },
  {
   "cell_type": "code",
   "execution_count": 11,
   "metadata": {},
   "outputs": [],
   "source": [
    "#Chapter6_1.1 라벨링 알고리즘\n",
    "\n",
    "\n",
    "def labelset(img, xs, ys, label):\n",
    "    height, width = img.shape\n",
    "    img[ys, xs] = label\n",
    "    while True:\n",
    "        cnt = 0\n",
    "        for y in range(1, height - 1):\n",
    "            for x in range(1, width - 1):\n",
    "                if img [y, x+1] ==255:\n",
    "                    img [y,x+1 ] = label; cnt=cnt+1\n",
    "                if img [y-1, x+1] ==255:\n",
    "                    img [y-1,x+1 ] = label; cnt=cnt+1\n",
    "                if img [y-1, x] ==255:\n",
    "                    img [y-1,x ] = label; cnt=cnt+1\n",
    "                if img [y-1, x-1] ==255:\n",
    "                    img [y-1,x-1 ] = label; cnt=cnt+1\n",
    "                if img [y, x-1] ==255:\n",
    "                    img [y,x-1 ] = label; cnt=cnt+1   \n",
    "                if img [y+1, x-1] ==255:\n",
    "                    img [y+1,x-1 ] = label; cnt=cnt+1\n",
    "                if img [y+1, x] ==255:\n",
    "                    img [y+1,x ] = label; cnt=cnt+1\n",
    "                if img [y+1, x+1] ==255:\n",
    "                    img [y+1,x+1 ] = label; cnt=cnt+1\n",
    "                # ... (다른 if 문들은 생략)\n",
    "        if cnt == 0:\n",
    "            return (0, img)\n",
    "    return (1,img)\n",
    " \n",
    "\n",
    " \n",
    "def labeling(img_in, base=100):\n",
    "    height, width = img_in.shape\n",
    "    img_label = img_in.copy()\n",
    "\n",
    "    label = base  # 수정: Base가 base로 변경되었습니다.\n",
    "\n",
    "    for y in range(1, height - 1):\n",
    "        for x in range(1, width - 1):\n",
    "            if img_label[y, x] == 255:\n",
    "                if label >= 255:\n",
    "                    print(\"Error! Too many labels\")\n",
    "                    return -1\n",
    "\n",
    "                _, img_label = labelset(img_label, x, y, label)  # 수정: labeltest가 labelset으로 변경되었습니다.\n",
    "                label = label + 1\n",
    "    cnt = label - base  # 수정: Base가 base로 변경되었습니다.\n",
    "    return img_label, cnt\n",
    "\n",
    "\n",
    "import cv2\n",
    "img = cv2.imread('shape.png', 0)\n",
    "_, bin_img = cv2.threshold(img, 128, 255, cv2.THRESH_BINARY)\n",
    "\n",
    "labeled_img, cnt = labeling(bin_img)\n",
    "cv2.imshow('image', img)\n",
    "cv2.imshow(\"Labeling\", labeled_img)\n",
    "cv2.waitKey(0)\n",
    "cv2.destroyAllWindows()\n",
    "\n",
    "\n",
    "\n",
    "\n"
   ]
  },
  {
   "cell_type": "code",
   "execution_count": 12,
   "metadata": {},
   "outputs": [
    {
     "name": "stdout",
     "output_type": "stream",
     "text": [
      "1  0  0  int32\n"
     ]
    }
   ],
   "source": [
    "#Chapter6_1.2 connectedComponents() 함수 이용 쉽게 라벨링\n",
    "\n",
    "import cv2\n",
    "import numpy as np\n",
    "\n",
    "img= cv2.imread('shape.png',0)\n",
    "_, bin_img = cv2.threshold(img,128,255,cv2.THRESH_BINARY)\n",
    "cnt, labeled_img = cv2.connectedComponents(bin_img)\n",
    "\n",
    "print(labeled_img[80,80],end=\"  \")\n",
    "print(labeled_img[69,173],end=\"  \")\n",
    "print(labeled_img[160,190],end=\"  \")\n",
    "print(labeled_img.dtype)\n",
    "\n",
    "labeled_img = labeled_img *50\n",
    "cv2.imshow(\"Labeling\",labeled_img.astype(np.uint8))\n",
    "cv2.imwrite(\"Labeled_img.jpg\", labeled_img)      \n",
    "\n",
    "cv2.waitKey(0)\n",
    "cv2.destroyAllWindows()\n"
   ]
  },
  {
   "cell_type": "code",
   "execution_count": 13,
   "metadata": {},
   "outputs": [
    {
     "name": "stdout",
     "output_type": "stream",
     "text": [
      "bottle:99.76%\n",
      "bottle:33.40%\n"
     ]
    }
   ],
   "source": [
    "#Chapter6_3.3 이미지에서 객체 탐지하기\n",
    "\n",
    "\n",
    "import numpy as np\n",
    "\n",
    "CLASSES = [\"background\",\"aeroplane\",\"bicycle\",\"bird\",\"boat\",\"bottle\",\"bus\",\"car\",\"cat\",\"chair\",\"cow\",\"diningtable\",\"dog\",\"horse\",\"motorbike\",\"person\",\"pottedplant\",\"sheep\",\"sofa\",\"train\",\"tvmonitor\"]\n",
    "COLOR = np.random.uniform(0,255,size=(len(CLASSES),3))\n",
    "\n",
    "import cv2\n",
    "\n",
    "net = cv2.dnn.readNetFromCaffe(\"deploy.prototxt\",\"mobilenet_iter_73000.caffemodel\")\n",
    "\n",
    "image = cv2.imread (\"work.jpg\")\n",
    "#image = cv2.imread (\"SI.jpg\")\n",
    "(h,w) = image.shape[:2]\n",
    "\n",
    "blob = cv2.dnn.blobFromImage (cv2.resize(image,(300,300)),0.007843,(300,300),127.5)\n",
    "\n",
    "net.setInput(blob)\n",
    "detections = net.forward()\n",
    "\n",
    "\n",
    "#loop over the detections\n",
    "\n",
    "for i in np.arange(0,detections.shape[2]):\n",
    "    #탐지 결과에서 신뢰도 추출\n",
    "    confidence = detections[0,0,i,2]\n",
    "    if confidence > 0.2 : #confidence 20% 이상만 처리 \n",
    "        #클래스 레이블의 인덱스와 경계상자 추출\n",
    "        idx = int(detections[0,0,i,1])\n",
    "        box = detections[0,0,i,3:7] * np.array([w,h,w,h])\n",
    "        (startX,startY,endX,endY) = box.astype(\"int\")\n",
    "        #탐지 결과 표시\n",
    "        label = \"{}:{:.2f}%\".format(CLASSES[idx],confidence * 100)\n",
    "\n",
    "        print(\"{}\".format(label))\n",
    "        cv2.rectangle(image,(startX,startY),(endX,endY),COLOR[idx],2)\n",
    "\n",
    "\n",
    "\n",
    "cv2.imshow(\"Output\",image)\n",
    "cv2.waitKey(0)\n",
    "cv2.destroyAllWindows()\n"
   ]
  },
  {
   "cell_type": "code",
   "execution_count": 6,
   "metadata": {},
   "outputs": [
    {
     "name": "stdout",
     "output_type": "stream",
     "text": [
      "person:98.05%\n"
     ]
    }
   ],
   "source": [
    "#Chapter6_3.4 카메라를 이용한 실시간 객체 탐지하기\n",
    "\n",
    "\n",
    "import numpy as np\n",
    "\n",
    "CLASSES = [\"background\",\"aeroplane\",\"bicycle\",\"bird\",\"boat\",\"bottle\",\"bus\",\"car\",\"cat\",\"chair\",\"cow\",\"diningtable\",\"dog\",\"horse\",\"motorbike\",\"person\",\"pottedplant\",\"sheep\",\"sofa\",\"train\",\"tvmonitor\"]\n",
    "COLORS = np.random.uniform(0,255,size=(len(CLASSES),3))\n",
    "\n",
    "import cv2\n",
    "net = cv2.dnn.readNetFromCaffe(\"deploy.prototxt\",\"mobilenet_iter_73000.caffemodel\")\n",
    "\n",
    "cap = cv2.VideoCapture(0)\n",
    "\n",
    "if cap.isOpened():\n",
    "    delay = int(1000/cap.get(cv2.CAP_PROP_FPS))\n",
    "\n",
    "    while True:\n",
    "        ret, image = cap.read()\n",
    "        if ret:\n",
    "            (h,w) = image.shape[:2]\n",
    "            blob = cv2.dnn.blobFromImage(cv2.resize(image,(300,300)),0.007843,(300,300),127.5)\n",
    "            # 탐색 수행\n",
    "            net.setInput(blob)\n",
    "            detections=net.forward()\n",
    "\n",
    "            #탐지 결과 반복\n",
    "            for i in np.arange(0,detections.shape[2]):\n",
    "                #탐지 결과에서 신뢰도 추출\n",
    "                confidence = detections[0,0,i,2]\n",
    "                if confidence > 0.2 : #confidence 20% 이상만 처리 \n",
    "                    idx = int(detections[0,0,i,1])\n",
    "                    box = detections[0,0,i,3:7] * np.array([w,h,w,h])\n",
    "                    (startX,startY,endX,endY) = box.astype(\"int\")\n",
    "                    #탐지 결과 표시\n",
    "                    label = \"{}:{:.2f}%\".format(CLASSES[idx],confidence * 100)\n",
    "                    cv2.rectangle(image,(startX,startY),(endX,endY),COLOR[idx],2)\n",
    "                    y=startY-15 if startY-15 >15 else startY+15\n",
    "                    cv2.putText(image,label,(startX,y),cv2.FONT_HERSHEY_SIMPLEX,0.5,COLORS[idx],2)\n",
    "\n",
    "        #윈도우로 프레임 출력\n",
    "        cv2.imshow(\"Detection\",image)\n",
    "        key = cv2.waitKey(delay) & 0xFF\n",
    "        if key == ord(\"q\") : #q가 눌리면 프레임 종료\n",
    "            break\n",
    "else: \n",
    "    print(\"File not opened\")\n",
    "\n",
    "print(\"{}\".format(label))\n",
    "#print(\"{}\".format(label))\n",
    "\n",
    "\n",
    "cap.release()\n",
    "cv2.destroyAllWindows()\n"
   ]
  }
 ],
 "metadata": {
  "kernelspec": {
   "display_name": "Python 3",
   "language": "python",
   "name": "python3"
  },
  "language_info": {
   "codemirror_mode": {
    "name": "ipython",
    "version": 3
   },
   "file_extension": ".py",
   "mimetype": "text/x-python",
   "name": "python",
   "nbconvert_exporter": "python",
   "pygments_lexer": "ipython3",
   "version": "3.11.4"
  },
  "orig_nbformat": 4
 },
 "nbformat": 4,
 "nbformat_minor": 2
}
