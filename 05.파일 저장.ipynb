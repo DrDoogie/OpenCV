{
 "cells": [
  {
   "cell_type": "markdown",
   "id": "5ced3212",
   "metadata": {},
   "source": [
    "# 05. 파일 저장\n",
    "## 이미지 저장 "
   ]
  },
  {
   "cell_type": "code",
   "execution_count": 4,
   "id": "551b490c",
   "metadata": {
    "scrolled": true
   },
   "outputs": [
    {
     "name": "stdout",
     "output_type": "stream",
     "text": [
      "True\n"
     ]
    }
   ],
   "source": [
    "import cv2\n",
    "\n",
    "img= cv2.imread('dog.jpg',cv2.IMREAD_GRAYSCALE)\n",
    "cv2.imshow ('dog.jpg',img)\n",
    "\n",
    "cv2.waitKey(0)\n",
    "cv2.destroyAllWindows()\n",
    "\n",
    "result = cv2.imwrite('dog_save.jpg',img)\n",
    "print(result)"
   ]
  },
  {
   "cell_type": "code",
   "execution_count": 6,
   "id": "2b600988",
   "metadata": {},
   "outputs": [
    {
     "data": {
      "text/plain": [
       "True"
      ]
     },
     "execution_count": 6,
     "metadata": {},
     "output_type": "execute_result"
    }
   ],
   "source": [
    "import cv2\n",
    "\n",
    "img= cv2.imread('dog.jpg',cv2.IMREAD_GRAYSCALE)\n",
    "cv2.imwrite('dog_save.png',img)"
   ]
  },
  {
   "cell_type": "markdown",
   "id": "100d9c92",
   "metadata": {},
   "source": [
    "## 동영상 저장하기 "
   ]
  },
  {
   "cell_type": "code",
   "execution_count": 12,
   "id": "44d7a46d",
   "metadata": {},
   "outputs": [],
   "source": [
    "# 동영상 불러오기\n",
    "import cv2\n",
    "cap = cv2.VideoCapture('dog.mp4')\n",
    "\n",
    "while cap.isOpened():\n",
    "    ret, frame = cap.read()\n",
    "    \n",
    "    if not ret:\n",
    "        break\n",
    "    \n",
    "    cv2.imshow('dog',frame)\n",
    "    if cv2.waitKey(1)== ord('q'):\n",
    "        break\n",
    "        \n",
    "cap.release()\n",
    "cv2.destroyAllWindows()"
   ]
  },
  {
   "cell_type": "code",
   "execution_count": 3,
   "id": "53722993",
   "metadata": {},
   "outputs": [],
   "source": [
    "#동영상 저장하기\n",
    "import cv2\n",
    "cap = cv2.VideoCapture('dog.mp4')\n",
    "\n",
    "#코덱 정의\n",
    "fourcc = cv2.VideoWriter_fourcc(*'DIVX')\n",
    "\n",
    "width = round(cap.get(cv2.CAP_PROP_FRAME_WIDTH)) # 정수값으로\n",
    "height = round(cap.get(cv2.CAP_PROP_FRAME_HEIGHT)) # 정수값으로\n",
    "#fps = cap.get(cv2.CAP_PROP_FPS)\n",
    "fps = cap.get(cv2.CAP_PROP_FPS) *2 #영상 재생 속도\n",
    "\n",
    "out = cv2.VideoWriter('output_fast.avi',fourcc,fps, (width,height))\n",
    "# 저장 파일명, 코덱, FPS,크기 , Width, Height\n",
    "while cap.isOpened():\n",
    "    ret, frame = cap.read()\n",
    "    \n",
    "    if not ret:\n",
    "        break\n",
    "    out.write(frame) #영상 데이터만 저장( 소리 x)\n",
    "    cv2.imshow('dog',frame)\n",
    "    if cv2.waitKey(1)== ord('q'):\n",
    "        break\n",
    "out.release() #자원해제\n",
    "cap.release()\n",
    "cv2.destroyAllWindows()"
   ]
  },
  {
   "cell_type": "code",
   "execution_count": 15,
   "id": "31311614",
   "metadata": {
    "scrolled": true
   },
   "outputs": [
    {
     "name": "stdout",
     "output_type": "stream",
     "text": [
      "DIVX\n",
      "D I V X\n"
     ]
    }
   ],
   "source": [
    "codec= 'DIVX'\n",
    "print(codec)\n",
    "print(*codec)"
   ]
  },
  {
   "cell_type": "code",
   "execution_count": 11,
   "id": "003a9451",
   "metadata": {},
   "outputs": [],
   "source": [
    "#동영상 저장 활용하기\n",
    "import cv2\n",
    "cap = cv2.VideoCapture('002.avi')\n",
    "\n",
    "#코덱 정의\n",
    "fourcc = cv2.VideoWriter_fourcc(*'DIVX')\n",
    "\n",
    "width = round(cap.get(cv2.CAP_PROP_FRAME_WIDTH)) # 정수값으로\n",
    "height = round(cap.get(cv2.CAP_PROP_FRAME_HEIGHT)) # 정수값으로\n",
    "#fps = cap.get(cv2.CAP_PROP_FPS)\n",
    "fps = cap.get(cv2.CAP_PROP_FPS) *2 #영상 재생 속도\n",
    "\n",
    "out = cv2.VideoWriter('002_fast.avi',fourcc,fps, (width,height))\n",
    "# 저장 파일명, 코덱, FPS,크기 , Width, Height\n",
    "while cap.isOpened():\n",
    "    ret, frame = cap.read()\n",
    "    \n",
    "    if not ret:\n",
    "        break\n",
    "    out.write(frame) #영상 데이터만 저장( 소리 x)\n",
    "    cv2.imshow('002',frame)\n",
    "    if cv2.waitKey(1)== ord('q'):\n",
    "        break\n",
    "out.release() #자원해제\n",
    "cap.release()\n",
    "cv2.destroyAllWindows()"
   ]
  },
  {
   "cell_type": "code",
   "execution_count": null,
   "id": "3e14723c",
   "metadata": {},
   "outputs": [],
   "source": []
  }
 ],
 "metadata": {
  "kernelspec": {
   "display_name": "Python 3",
   "language": "python",
   "name": "python3"
  },
  "language_info": {
   "codemirror_mode": {
    "name": "ipython",
    "version": 3
   },
   "file_extension": ".py",
   "mimetype": "text/x-python",
   "name": "python",
   "nbconvert_exporter": "python",
   "pygments_lexer": "ipython3",
   "version": "3.8.8"
  }
 },
 "nbformat": 4,
 "nbformat_minor": 5
}
