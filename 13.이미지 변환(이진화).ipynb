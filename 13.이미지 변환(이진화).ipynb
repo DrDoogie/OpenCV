{
 "cells": [
  {
   "cell_type": "markdown",
   "id": "486013fa",
   "metadata": {},
   "source": [
    "## 13. 이미지 변형(이진화)"
   ]
  },
  {
   "cell_type": "code",
   "execution_count": 9,
   "id": "7357a779",
   "metadata": {},
   "outputs": [],
   "source": [
    "import cv2\n",
    "img = cv2.imread('book.jpg', cv2.IMREAD_GRAYSCALE)\n",
    "\n",
    "\n",
    "ret, binary = cv2.threshold(img,127,255, cv2.THRESH_BINARY)  #127보다 클때 255\n",
    "\n",
    "cv2.imshow('img',img)\n",
    "cv2.imshow('binary',binary)\n",
    "\n",
    "cv2.waitKey(0)\n",
    "cv2.destroyAllWindows()"
   ]
  },
  {
   "cell_type": "markdown",
   "id": "79b7c598",
   "metadata": {},
   "source": [
    "## Trackbar (값 변화에 따른 변형 확인)"
   ]
  },
  {
   "cell_type": "code",
   "execution_count": 4,
   "id": "be9ca1f0",
   "metadata": {},
   "outputs": [],
   "source": [
    "import cv2\n",
    "img = cv2.imread('book.jpg', cv2.IMREAD_GRAYSCALE)\n",
    "\n",
    "def empty(pos):\n",
    "    #print(pos)\n",
    "    pass\n",
    "\n",
    "\n",
    "name = 'Trackbar'\n",
    "cv2.namedWindow(name)\n",
    "\n",
    "cv2.createTrackbar('threshold',name,127,255,empty) #bar 이름, 창의 이름,초기값,최대값,이벤트 처리\n",
    "\n",
    "while True:\n",
    "    thresh = cv2.getTrackbarPos('threshold',name) #bar이름 , 창의 이름\n",
    "    ret, binary = cv2.threshold(img,thresh,255, cv2.THRESH_BINARY)\n",
    "    \n",
    "    if not ret:\n",
    "        break\n",
    "    \n",
    "    cv2.imshow(name, binary)\n",
    "    if cv2.waitKey(1)==ord('q'):\n",
    "        break\n",
    "cv2.destroyAllWindows()"
   ]
  },
  {
   "cell_type": "markdown",
   "id": "6aa4b41e",
   "metadata": {},
   "source": [
    "## Threshold Test"
   ]
  },
  {
   "cell_type": "code",
   "execution_count": 1,
   "id": "6ef5b796",
   "metadata": {},
   "outputs": [],
   "source": [
    "import cv2\n",
    "img = cv2.imread('book.jpg', cv2.IMREAD_GRAYSCALE)\n",
    "\n",
    "\n",
    "ret, binary1 = cv2.threshold(img,0,255, cv2.THRESH_BINARY)  \n",
    "ret, binary2 = cv2.threshold(img,127,255, cv2.THRESH_BINARY)  \n",
    "ret, binary3 = cv2.threshold(img,195,255, cv2.THRESH_BINARY)  \n",
    "\n",
    "cv2.imshow('img',img)\n",
    "cv2.imshow('binary1',binary1)\n",
    "cv2.imshow('binary2',binary2)\n",
    "cv2.imshow('binary3',binary3)\n",
    "\n",
    "cv2.waitKey(0)\n",
    "cv2.destroyAllWindows()"
   ]
  },
  {
   "cell_type": "markdown",
   "id": "e1c951d1",
   "metadata": {},
   "source": [
    "## Adaptive Threshold\n",
    "### 이미지를 작은 영역으로 나누어서 임계치 적용"
   ]
  },
  {
   "cell_type": "code",
   "execution_count": 1,
   "id": "bd8488c0",
   "metadata": {
    "scrolled": true
   },
   "outputs": [],
   "source": [
    "import cv2\n",
    "\n",
    "\n",
    "def empty(pos):\n",
    "    #print(pos)\n",
    "    pass\n",
    "\n",
    "img = cv2.imread('book.jpg', cv2.IMREAD_GRAYSCALE)\n",
    "\n",
    "name = 'Trackbar'\n",
    "cv2.namedWindow(name)\n",
    "\n",
    "cv2.createTrackbar('block_size',name,25,100,empty) # 홀수만 가능, 1보다는 큰값\n",
    "cv2.createTrackbar('c',name,3,10,empty) #일반적으로 양수의 값을 사용\n",
    "\n",
    "while True:\n",
    "    block_size = cv2.getTrackbarPos('block_size',name) #bar 이름, 창의 이름\n",
    "    c = cv2.getTrackbarPos('c',name)\n",
    "    \n",
    "    if block_size <=1: #1이하면 3으로\n",
    "        block_size = 3\n",
    "        \n",
    "    if block_size %2 ==0:# 짝수이면 홀수로\n",
    "        block_size += 1\n",
    "        \n",
    "    binary = cv2.adaptiveThreshold(img,255,cv2.ADAPTIVE_THRESH_MEAN_C, cv2.THRESH_BINARY, block_size,c)\n",
    "   \n",
    "    \n",
    "    cv2.imshow(name, binary)\n",
    "    \n",
    "  \n",
    "    \n",
    "    if cv2.waitKey(1)==ord('q'):\n",
    "        break\n",
    "        \n",
    "cv2.destroyAllWindows()"
   ]
  },
  {
   "cell_type": "markdown",
   "id": "e5716faf",
   "metadata": {},
   "source": [
    "## 오츠 알고리즘"
   ]
  },
  {
   "cell_type": "markdown",
   "id": "3fcc468d",
   "metadata": {},
   "source": [
    "## Bimodal 이미지에 사용하기에 적합"
   ]
  },
  {
   "cell_type": "code",
   "execution_count": 8,
   "id": "35a5058b",
   "metadata": {},
   "outputs": [
    {
     "name": "stdout",
     "output_type": "stream",
     "text": [
      "otsu threshold 101.0\n"
     ]
    }
   ],
   "source": [
    "import cv2\n",
    "img = cv2.imread('book.jpg', cv2.IMREAD_GRAYSCALE)\n",
    "\n",
    "\n",
    "ret, binary = cv2.threshold(img,127,255, cv2.THRESH_BINARY)  #127보다 클때 255\n",
    "ret, otsu = cv2.threshold(img,-1,255, cv2.THRESH_BINARY | cv2.THRESH_OTSU)  #127보다 클때 255\n",
    "print('otsu threshold', ret)\n",
    "\n",
    "cv2.imshow('img',img)\n",
    "cv2.imshow('binary',binary)\n",
    "cv2.imshow('otsu',otsu)\n",
    "\n",
    "cv2.imwrite('otsu.jpg',otsu)\n",
    "\n",
    "cv2.waitKey(0)\n",
    "cv2.destroyAllWindows()"
   ]
  }
 ],
 "metadata": {
  "kernelspec": {
   "display_name": "Python 3",
   "language": "python",
   "name": "python3"
  },
  "language_info": {
   "codemirror_mode": {
    "name": "ipython",
    "version": 3
   },
   "file_extension": ".py",
   "mimetype": "text/x-python",
   "name": "python",
   "nbconvert_exporter": "python",
   "pygments_lexer": "ipython3",
   "version": "3.8.8"
  }
 },
 "nbformat": 4,
 "nbformat_minor": 5
}
