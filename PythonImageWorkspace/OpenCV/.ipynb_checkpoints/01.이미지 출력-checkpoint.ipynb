{
 "cells": [
  {
   "cell_type": "markdown",
   "id": "4dd131ac",
   "metadata": {},
   "source": [
    "# 환경설정\n",
    "Anaconda Prompt (아나콘다 네비게이터에서 열기)"
   ]
  },
  {
   "cell_type": "code",
   "execution_count": 9,
   "id": "97bce67d",
   "metadata": {},
   "outputs": [
    {
     "data": {
      "text/plain": [
       "'4.5.5'"
      ]
     },
     "execution_count": 9,
     "metadata": {},
     "output_type": "execute_result"
    }
   ],
   "source": [
    "import cv2\n",
    "cv2.__version__"
   ]
  },
  {
   "cell_type": "markdown",
   "id": "a3e0c5aa",
   "metadata": {},
   "source": [
    "# 이미지 출력"
   ]
  },
  {
   "cell_type": "code",
   "execution_count": 5,
   "id": "7e81e453",
   "metadata": {},
   "outputs": [
    {
     "name": "stdout",
     "output_type": "stream",
     "text": [
      "119\n"
     ]
    }
   ],
   "source": [
    "import cv2\n",
    "img=cv2.imread('dog.jpg')\n",
    "cv2.imshow('img',img)\n",
    "key=cv2.waitKey(0)\n",
    "print(key)\n",
    "cv2.destroyAllWindows()"
   ]
  },
  {
   "cell_type": "code",
   "execution_count": 17,
   "id": "231666cc",
   "metadata": {},
   "outputs": [],
   "source": [
    "import cv2\n",
    "img_color= cv2.imread('dog.jpg',cv2.IMREAD_COLOR)\n",
    "img_gray= cv2.imread('dog.jpg',cv2.IMREAD_GRAYSCALE)\n",
    "img_unchanged= cv2.imread('dog.jpg',cv2.IMREAD_UNCHANGED)\n",
    "\n",
    "cv2.imshow ('img_color',img_color)\n",
    "cv2.imshow ('img_gray',img_gray)\n",
    "cv2.imshow ('img_unchanged',img_unchanged)\n",
    "\n",
    "cv2.waitKey(0)\n",
    "cv2.destroyAllWindows()"
   ]
  },
  {
   "cell_type": "markdown",
   "id": "785604ac",
   "metadata": {},
   "source": [
    "# Shape\n",
    "이미지의 height, width,channel 정보"
   ]
  },
  {
   "cell_type": "code",
   "execution_count": 18,
   "id": "ea0e67dc",
   "metadata": {},
   "outputs": [
    {
     "data": {
      "text/plain": [
       "(405, 640, 3)"
      ]
     },
     "execution_count": 18,
     "metadata": {},
     "output_type": "execute_result"
    }
   ],
   "source": [
    "import cv2\n",
    "img= cv2.imread('dog.jpg')\n",
    "img.shape"
   ]
  }
 ],
 "metadata": {
  "kernelspec": {
   "display_name": "Python 3",
   "language": "python",
   "name": "python3"
  },
  "language_info": {
   "codemirror_mode": {
    "name": "ipython",
    "version": 3
   },
   "file_extension": ".py",
   "mimetype": "text/x-python",
   "name": "python",
   "nbconvert_exporter": "python",
   "pygments_lexer": "ipython3",
   "version": "3.8.8"
  }
 },
 "nbformat": 4,
 "nbformat_minor": 5
}
