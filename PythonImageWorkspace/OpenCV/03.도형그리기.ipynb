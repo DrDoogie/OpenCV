{
 "cells": [
  {
   "cell_type": "markdown",
   "id": "58de95fd",
   "metadata": {},
   "source": [
    "# 3.도형 그리기"
   ]
  },
  {
   "cell_type": "markdown",
   "id": "0e3d400f",
   "metadata": {},
   "source": [
    "## 빈 스케치북 만들기"
   ]
  },
  {
   "cell_type": "code",
   "execution_count": 13,
   "id": "0f0f5701",
   "metadata": {},
   "outputs": [],
   "source": [
    "import cv2\n",
    "import numpy as np\n",
    "\n",
    "#세로 480 x 가로 640 , 3 channel (RGB) 에 해당하는 스케치북 만들기\n",
    "img = np.zeros((480,640,3))\n",
    "#img[:] = (255,255,255) # 전체 공간을 흰색으로 만들기  B G R \n",
    "img[:] = (255,0,0) # 전체 공간을 흰색으로 만들기  B G R \n",
    "#print(img)\n",
    "cv2. imshow('img',img)\n",
    "cv2.waitKey(0)\n",
    "cv2.destroyAllWindows()"
   ]
  },
  {
   "cell_type": "markdown",
   "id": "3b5db1eb",
   "metadata": {},
   "source": [
    "## 일부 영역 색칠"
   ]
  },
  {
   "cell_type": "code",
   "execution_count": 15,
   "id": "2e0e1989",
   "metadata": {},
   "outputs": [],
   "source": [
    "import cv2\n",
    "import numpy as np\n",
    "\n",
    "img = np.zeros((480,640,3))\n",
    "img[100:200,200:300] = (255,255,255)\n",
    "#세로 영역 가로영역 기준으로 색을 채운다\n",
    "\n",
    "#print(img)\n",
    "cv2. imshow('img',img)\n",
    "cv2.waitKey(0)\n",
    "cv2.destroyAllWindows()"
   ]
  },
  {
   "cell_type": "markdown",
   "id": "4878e281",
   "metadata": {},
   "source": [
    "# 직선 그리기 \n",
    "## 직선의 종류\n",
    "\n",
    "1. cv2.LINE_4 : 상하 좌우로 4방향으로 연결된 선 \n",
    "1. cv2.LINE_8 : 대각선을 포함한 8 방향으로 연결된 선(기본 값)\n",
    "1. cv2.LINE_AA : 부드러운 선 (anti-aliasing)"
   ]
  },
  {
   "cell_type": "code",
   "execution_count": 18,
   "id": "0e68f5bb",
   "metadata": {},
   "outputs": [],
   "source": [
    "import cv2\n",
    "import numpy as np\n",
    "\n",
    "img = np.zeros((480,640,3))\n",
    "COLOR = (0,255,255)\n",
    "THICKNESS = 3\n",
    "cv2.line(img, (50,100),(400,50),COLOR, THICKNESS,cv2.LINE_8)\n",
    "# 그릴 위치,시작점, 끝점,색깔, 두께, 선종류\n",
    "\n",
    "cv2.line(img, (50,200),(400,50),COLOR, THICKNESS,cv2.LINE_4)\n",
    "cv2.line(img, (50,300),(400,50),COLOR, THICKNESS,cv2.LINE_AA)\n",
    "cv2. imshow('img',img)\n",
    "cv2.waitKey(0)\n",
    "cv2.destroyAllWindows()"
   ]
  }
 ],
 "metadata": {
  "kernelspec": {
   "display_name": "Python 3",
   "language": "python",
   "name": "python3"
  },
  "language_info": {
   "codemirror_mode": {
    "name": "ipython",
    "version": 3
   },
   "file_extension": ".py",
   "mimetype": "text/x-python",
   "name": "python",
   "nbconvert_exporter": "python",
   "pygments_lexer": "ipython3",
   "version": "3.8.8"
  }
 },
 "nbformat": 4,
 "nbformat_minor": 5
}
