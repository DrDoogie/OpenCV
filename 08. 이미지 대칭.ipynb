{
 "cells": [
  {
   "cell_type": "markdown",
   "id": "4f365a17",
   "metadata": {},
   "source": [
    "# 08.이미지 대칭"
   ]
  },
  {
   "cell_type": "markdown",
   "id": "f4d51b35",
   "metadata": {},
   "source": [
    "## 좌우대칭"
   ]
  },
  {
   "cell_type": "code",
   "execution_count": 2,
   "id": "84a2e962",
   "metadata": {},
   "outputs": [],
   "source": [
    "import cv2\n",
    "img = cv2.imread ('dog.jpg')\n",
    "flip_horizontal = cv2.flip(img,1)  #flipCode > 0 좌우대칭 Horizontal\n",
    "\n",
    "cv2.imshow('img',img)\n",
    "cv2.imshow ('flip_horizontal',flip_horizontal)\n",
    "cv2.waitKey(0)\n",
    "cv2.destroyAllWindows()"
   ]
  },
  {
   "cell_type": "markdown",
   "id": "45df377c",
   "metadata": {},
   "source": [
    "## 상하 대칭"
   ]
  },
  {
   "cell_type": "code",
   "execution_count": 4,
   "id": "0d9de433",
   "metadata": {},
   "outputs": [],
   "source": [
    "import cv2\n",
    "img = cv2.imread ('dog.jpg')\n",
    "flip_vertical = cv2.flip(img,0)  #flipCode ==0  상하대칭 Vertical\n",
    "\n",
    "cv2.imshow('img',img)\n",
    "cv2.imshow ('flip_horizontal',flip_vertical)\n",
    "cv2.waitKey(0)\n",
    "cv2.destroyAllWindows()"
   ]
  },
  {
   "cell_type": "markdown",
   "id": "5d3d62a7",
   "metadata": {},
   "source": [
    "## 상하좌우대칭"
   ]
  },
  {
   "cell_type": "code",
   "execution_count": 5,
   "id": "7bc95570",
   "metadata": {},
   "outputs": [],
   "source": [
    "import cv2\n",
    "img = cv2.imread ('dog.jpg')\n",
    "flip_both = cv2.flip(img,-1)  #flipCode <0   상하대칭 Vertical\n",
    "\n",
    "cv2.imshow('img',img)\n",
    "cv2.imshow ('flip_horizontal',flip_both)\n",
    "cv2.waitKey(0)\n",
    "cv2.destroyAllWindows()"
   ]
  }
 ],
 "metadata": {
  "kernelspec": {
   "display_name": "Python 3",
   "language": "python",
   "name": "python3"
  },
  "language_info": {
   "codemirror_mode": {
    "name": "ipython",
    "version": 3
   },
   "file_extension": ".py",
   "mimetype": "text/x-python",
   "name": "python",
   "nbconvert_exporter": "python",
   "pygments_lexer": "ipython3",
   "version": "3.8.8"
  }
 },
 "nbformat": 4,
 "nbformat_minor": 5
}
