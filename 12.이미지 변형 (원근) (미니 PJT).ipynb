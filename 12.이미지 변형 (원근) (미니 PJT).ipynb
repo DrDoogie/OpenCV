{
 "cells": [
  {
   "cell_type": "markdown",
   "id": "10e998c3",
   "metadata": {},
   "source": [
    "# 12. 이미지 변형(원근)"
   ]
  },
  {
   "cell_type": "markdown",
   "id": "73a6bd64",
   "metadata": {},
   "source": [
    "## 사다리꼴 이미지 펼침\n"
   ]
  },
  {
   "cell_type": "code",
   "execution_count": 4,
   "id": "39d5f4fd",
   "metadata": {},
   "outputs": [],
   "source": [
    "import cv2\n",
    "import numpy as np\n",
    "\n",
    "img= cv2.imread('newspaper.jpg')\n",
    "\n",
    "width,height = 640,240  # 가로크기640 세로크기 240 으로 결과출력\n",
    "\n",
    "#source\n",
    "src= np.array([[511,352],[1008,345],[1122,584],[455,594]],dtype=np.float32) #input 4개지점\n",
    "\n",
    "#destination\n",
    "dst = np.array([[0,0],[width,0],[width,height],[0,height]],dtype=np.float32) #Output 4개지점\n",
    "\n",
    "#좌상,우상,우하,좌하 (시계 방향으로 4지점 정의)\n",
    "\n",
    "matrix = cv2.getPerspectiveTransform(src,dst)  #Matrix 얻어옴\n",
    "result = cv2.warpPerspective(img,matrix,(width,height)) #Matrix 대로 변환을 함\n",
    "\n",
    "\n",
    "cv2.imshow('img',img)\n",
    "cv2.imshow('result',result)\n",
    "\n",
    "\n",
    "cv2.waitKey(0)\n",
    "cv2.destroyAllWindows()"
   ]
  },
  {
   "cell_type": "markdown",
   "id": "1d06d751",
   "metadata": {},
   "source": [
    "## 회전된 이미지 세우기"
   ]
  },
  {
   "cell_type": "code",
   "execution_count": 6,
   "id": "ede3a59b",
   "metadata": {},
   "outputs": [],
   "source": [
    "import cv2\n",
    "import numpy as np\n",
    "\n",
    "img= cv2.imread('poker.jpg')\n",
    "\n",
    "width,height = 530,710  # 가로크기640 세로크기 240 으로 결과출력\n",
    "\n",
    "#source\n",
    "src= np.array([[702,143],[1133,414],[726,1007],[276,700]],dtype=np.float32) #input 4개지점\n",
    "\n",
    "#destination\n",
    "dst = np.array([[0,0],[width,0],[width,height],[0,height]],dtype=np.float32) #Output 4개지점\n",
    "\n",
    "#좌상,우상,우하,좌하 (시계 방향으로 4지점 정의)\n",
    "\n",
    "matrix = cv2.getPerspectiveTransform(src,dst)  #Matrix 얻어옴\n",
    "result = cv2.warpPerspective(img,matrix,(width,height)) #Matrix 대로 변환을 함\n",
    "\n",
    "\n",
    "cv2.imshow('img',img)\n",
    "cv2.imshow('result',result)\n",
    "\n",
    "\n",
    "cv2.waitKey(0)\n",
    "cv2.destroyAllWindows()"
   ]
  },
  {
   "cell_type": "markdown",
   "id": "5b5a735f",
   "metadata": {},
   "source": [
    "## 미니 프로젝트 : 반자동 문서 스캐너"
   ]
  },
  {
   "cell_type": "markdown",
   "id": "6c88bdf3",
   "metadata": {},
   "source": [
    "### 마우스 이벤트 등록"
   ]
  },
  {
   "cell_type": "code",
   "execution_count": 9,
   "id": "073ee7a2",
   "metadata": {},
   "outputs": [],
   "source": [
    "import cv2\n",
    "\n",
    "def mouse_handler(event,x,y,flags,param):\n",
    "    pass\n",
    "\n",
    "img= cv2.imread('poker.jpg')\n",
    "cv2.namedWindow('img') #img란 이름의 윈도우를 먼저 만들어 주는 것 여기에 마우스 이벤트를 처리하기 위한 핸들링\n",
    "cv2.setMouseCallback('img',mouse_handler)\n",
    "\n",
    "cv2.imshow('img',img)\n",
    "cv2.waitKey(0)\n",
    "cv2.destroyAllWindows()"
   ]
  },
  {
   "cell_type": "code",
   "execution_count": 10,
   "id": "44233a87",
   "metadata": {},
   "outputs": [
    {
     "name": "stdout",
     "output_type": "stream",
     "text": [
      "왼쪽 버튼 Down\n",
      "왼쪽 버튼 UP\n",
      "왼쪽 버튼 Down\n",
      "왼쪽 버튼 UP\n",
      "왼쪽 버튼 Down\n",
      "왼쪽 버튼 UP\n"
     ]
    }
   ],
   "source": [
    "import cv2\n",
    "\n",
    "def mouse_handler(event,x,y,flags,param):\n",
    "    if event == cv2.EVENT_LBUTTONDOWN: #마우스 왼쪽 버튼 누름\n",
    "        print('왼쪽 버튼 Down')\n",
    "    elif event == cv2.EVENT_LBUTTONUP:\n",
    "        print('왼쪽 버튼 UP')\n",
    "        \n",
    "\n",
    "img= cv2.imread('poker.jpg')\n",
    "cv2.namedWindow('img') #img란 이름의 윈도우를 먼저 만들어 주는 것 여기에 마우스 이벤트를 처리하기 위한 핸들링\n",
    "cv2.setMouseCallback('img',mouse_handler)\n",
    "\n",
    "cv2.imshow('img',img) \n",
    "cv2.waitKey(0)\n",
    "cv2.destroyAllWindows()"
   ]
  },
  {
   "cell_type": "code",
   "execution_count": 17,
   "id": "c18b5153",
   "metadata": {},
   "outputs": [
    {
     "name": "stdout",
     "output_type": "stream",
     "text": [
      "오른쪽 버튼 Down\n",
      "139 162\n"
     ]
    }
   ],
   "source": [
    "import cv2\n",
    "\n",
    "def mouse_handler(event,x,y,flags,param):\n",
    "    if event == cv2.EVENT_LBUTTONDOWN: #마우스 왼쪽 버튼 누름\n",
    "        print('왼쪽 버튼 Down')\n",
    "        print(x,y)\n",
    "    elif event == cv2.EVENT_LBUTTONUP:\n",
    "        print('왼쪽 버튼 UP')\n",
    "        print(x,y)\n",
    "    elif event == cv2.EVENT_LBUTTONDBLCLK:\n",
    "        print('왼쪽 버튼 Double CLick')\n",
    "    #elif event == cv2.EVENT_MOUSEMOVE:\n",
    "     #   print('마우스이동')\n",
    "    elif event == cv2.EVENT_RBUTTONUP:#마우스 오른쪽 버튼 누름\n",
    "        print('오른쪽 버튼 Down')\n",
    "        print(x,y)\n",
    "\n",
    "img= cv2.imread('poker.jpg')\n",
    "cv2.namedWindow('img') #img란 이름의 윈도우를 먼저 만들어 주는 것 여기에 마우스 이벤트를 처리하기 위한 핸들링\n",
    "cv2.setMouseCallback('img',mouse_handler)\n",
    "\n",
    "cv2.imshow('img',img) \n",
    "cv2.waitKey(0)\n",
    "cv2.destroyAllWindows()"
   ]
  },
  {
   "cell_type": "markdown",
   "id": "cf86864f",
   "metadata": {},
   "source": [
    "## 프로젝트"
   ]
  },
  {
   "cell_type": "code",
   "execution_count": 35,
   "id": "e5542e69",
   "metadata": {},
   "outputs": [],
   "source": [
    "import cv2\n",
    "import numpy as np\n",
    "\n",
    "\n",
    "src_img= cv2.imread('poker.jpg')\n",
    "\n",
    "point_list=[]\n",
    "COLOR= (255,0,255) #핑크\n",
    "\n",
    "def mouse_handler(event,x,y,flags,param):\n",
    "    if event == cv2.EVENT_LBUTTONDOWN: #마우스 왼쪽 버튼 누름\n",
    "        point_list.append((x,y))\n",
    "    \n",
    "    for point in point_list:\n",
    "        cv2.circle(src_img,point,15,COLOR,cv2.FILLED)\n",
    "        \n",
    "    cv2.imshow('img',src_img)\n",
    "    #print(point_list)   # 중간과정 확인\n",
    "    \n",
    "    if len(point_list) ==4:\n",
    "        show_result() # 결과출력\n",
    "\n",
    "        \n",
    "def show_result():\n",
    "    width,height = 530,710  # 가로크기640 세로크기 240 으로 결과출력\n",
    "    #source\n",
    "    src= np.float32(point_list)\n",
    "    #destination\n",
    "    dst = np.array([[0,0],[width,0],[width,height],[0,height]],dtype=np.float32) #Output 4개지점\n",
    "    #좌상,우상,우하,좌하 (시계 방향으로 4지점 정의)\n",
    "    \n",
    "    matrix = cv2.getPerspectiveTransform(src,dst)  #Matrix 얻어옴\n",
    "    result = cv2.warpPerspective(src_img,matrix,(width,height)) #Matrix 대로 변환을 함\n",
    "    cv2.imshow('result',result)\n",
    "\n",
    "\n",
    "    \n",
    "cv2.namedWindow('img') #img란 이름의 윈도우를 먼저 만들어 주는 것 여기에 마우스 이벤트를 처리하기 위한 핸들링\n",
    "cv2.setMouseCallback('img',mouse_handler)\n",
    "\n",
    "cv2.imshow('img',src_img) \n",
    "cv2.waitKey(0)\n",
    "cv2.destroyAllWindows()"
   ]
  },
  {
   "cell_type": "markdown",
   "id": "09fcef2d",
   "metadata": {},
   "source": [
    "## 선그리기까지 포함시키기"
   ]
  },
  {
   "cell_type": "code",
   "execution_count": 45,
   "id": "f2c60bc3",
   "metadata": {},
   "outputs": [],
   "source": [
    "import cv2\n",
    "import numpy as np\n",
    "\n",
    "\n",
    "src_img= cv2.imread('poker.jpg')\n",
    "point_list=[]\n",
    "\n",
    "COLOR= (255,0,255) #핑크\n",
    "\n",
    "#여기부터 추가\n",
    "THICKNESS = 3\n",
    "drawing = False #선을 그릴지 여부\n",
    "\n",
    "\n",
    "\n",
    "def mouse_handler(event,x,y,flags, param):\n",
    "    global drawing\n",
    "    dst_img = src_img.copy()\n",
    "    \n",
    "    \n",
    "    if event == cv2.EVENT_LBUTTONDOWN: #마우스 왼쪽 버튼 누름\n",
    "        drawing = True #선을 그리기 시작\n",
    "        point_list.append((x,y))\n",
    "    \n",
    "    if drawing:\n",
    "        prev_point = None #직선의 시작점\n",
    "        for point in point_list:\n",
    "            cv2.circle(dst_img,point,15,COLOR,cv2.FILLED)\n",
    "            if prev_point:\n",
    "                cv2.line(dst_img, prev_point, point, COLOR, THICKNESS,cv2.LINE_AA)\n",
    "            prev_point = point\n",
    "        \n",
    "        next_point = (x,y)\n",
    "        \n",
    "        if len(point_list) ==4:\n",
    "            show_result() # 결과출력\n",
    "            next_point = point_list[0]\n",
    "        \n",
    "        cv2.line(dst_img, prev_point, next_point, COLOR, THICKNESS,cv2.LINE_AA)\n",
    "            \n",
    "    \n",
    "    #print(point_list)   # 중간과정 확인\n",
    "    \n",
    "\n",
    "    cv2.imshow('img',dst_img)\n",
    "\n",
    "        \n",
    "def show_result():\n",
    "    width,height = 530,710  # 가로크기640 세로크기 240 으로 결과출력\n",
    "    #source\n",
    "    src= np.float32(point_list)\n",
    "    #destination\n",
    "    dst = np.array([[0,0],[width,0],[width,height],[0,height]],dtype=np.float32) #Output 4개지점\n",
    "    #좌상,우상,우하,좌하 (시계 방향으로 4지점 정의)\n",
    "    \n",
    "    matrix = cv2.getPerspectiveTransform(src,dst)  #Matrix 얻어옴\n",
    "    result = cv2.warpPerspective(src_img,matrix,(width,height)) #Matrix 대로 변환을 함\n",
    "    cv2.imshow('result',result)\n",
    "\n",
    "\n",
    "    \n",
    "cv2.namedWindow('img') #img란 이름의 윈도우를 먼저 만들어 주는 것 여기에 마우스 이벤트를 처리하기 위한 핸들링\n",
    "cv2.setMouseCallback('img',mouse_handler)\n",
    "\n",
    "cv2.imshow('img',src_img) \n",
    "cv2.waitKey(0)\n",
    "cv2.destroyAllWindows()"
   ]
  }
 ],
 "metadata": {
  "kernelspec": {
   "display_name": "Python 3",
   "language": "python",
   "name": "python3"
  },
  "language_info": {
   "codemirror_mode": {
    "name": "ipython",
    "version": 3
   },
   "file_extension": ".py",
   "mimetype": "text/x-python",
   "name": "python",
   "nbconvert_exporter": "python",
   "pygments_lexer": "ipython3",
   "version": "3.8.8"
  }
 },
 "nbformat": 4,
 "nbformat_minor": 5
}
