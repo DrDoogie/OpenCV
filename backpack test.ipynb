{
  "nbformat": 4,
  "nbformat_minor": 0,
  "metadata": {
    "colab": {
      "provenance": [],
      "authorship_tag": "ABX9TyPQujWe0b+7CJzbAZ47Fl44",
      "include_colab_link": true
    },
    "kernelspec": {
      "name": "python3",
      "display_name": "Python 3"
    },
    "language_info": {
      "name": "python"
    }
  },
  "cells": [
    {
      "cell_type": "markdown",
      "metadata": {
        "id": "view-in-github",
        "colab_type": "text"
      },
      "source": [
        "<a href=\"https://colab.research.google.com/github/DrDoogie/OpenCV/blob/main/backpack%20test.ipynb\" target=\"_parent\"><img src=\"https://colab.research.google.com/assets/colab-badge.svg\" alt=\"Open In Colab\"/></a>"
      ]
    },
    {
      "cell_type": "code",
      "source": [
        "!pip install ortools"
      ],
      "metadata": {
        "colab": {
          "base_uri": "https://localhost:8080/"
        },
        "id": "-Of6XAe24IAv",
        "outputId": "3b42f23d-b80d-4624-efbf-06f86d036f23"
      },
      "execution_count": null,
      "outputs": [
        {
          "output_type": "stream",
          "name": "stdout",
          "text": [
            "Looking in indexes: https://pypi.org/simple, https://us-python.pkg.dev/colab-wheels/public/simple/\n",
            "Requirement already satisfied: ortools in /usr/local/lib/python3.7/dist-packages (9.4.1874)\n",
            "Requirement already satisfied: protobuf>=3.19.4 in /usr/local/lib/python3.7/dist-packages (from ortools) (4.21.6)\n",
            "Requirement already satisfied: absl-py>=0.13 in /usr/local/lib/python3.7/dist-packages (from ortools) (1.2.0)\n",
            "Requirement already satisfied: numpy>=1.13.3 in /usr/local/lib/python3.7/dist-packages (from ortools) (1.21.6)\n"
          ]
        }
      ]
    },
    {
      "cell_type": "markdown",
      "source": [
        "# 새 섹션"
      ],
      "metadata": {
        "id": "XRimd-BF4NEC"
      }
    },
    {
      "cell_type": "code",
      "source": [
        "from ortools.linear_solver import pywraplp"
      ],
      "metadata": {
        "id": "z5RGVP754N3X"
      },
      "execution_count": null,
      "outputs": []
    },
    {
      "cell_type": "code",
      "source": [
        "solver= pywraplp.Solver('simple1',pywraplp.Solver.CBC_MIXED_INTEGER_PROGRAMMING)"
      ],
      "metadata": {
        "id": "hLtMDM5v54CT"
      },
      "execution_count": null,
      "outputs": []
    },
    {
      "cell_type": "code",
      "source": [
        "from ortools.linear_solver import pywraplp\n",
        "\n",
        "solver = pywraplp.Solver('Kapsack_simple1',pywraplp.Solver.CBC_MIXED_INTEGER_PROGRAMMING)\n",
        "\n",
        "x1 = solver.IntVar(0,10, '다이아몬드')\n",
        "x2 = solver.IntVar(0,20, '루비')\n",
        "x3 = solver.IntVar(0,25, '토파즈')\n",
        "x4 = solver.IntVar(0,25,'에메랄드')\n",
        "x5 = solver.IntVar(0,10,'사파이어')\n",
        "\n",
        "solver.Maximize(50*x1 + 20*x2 + 25*x3 + 45*x4 + 30*x5)\n",
        "\n",
        "solver.Add(x1+x2+x3+x4+x5 <= 50)\n",
        "solver.Add(5*x1 + 2*x2 + 3*x3 + 8*x4 + 4*x5 <= 250)\n",
        "\n",
        "result_status = solver.Solve()\n",
        "\n",
        "print(solver.Objective().Value())\n",
        "print(\"다이아몬드: \" + str(x1.solution_value()))\n",
        "print(\"루비: \" + str(x2.solution_value()))\n",
        "print(\"토파즈: \" + str(x3.solution_value()))\n",
        "print(\"에메랄드: \" + str(x4.solution_value()))\n",
        "print(\"사파이어: \" + str(x5.solution_value()))"
      ],
      "metadata": {
        "colab": {
          "base_uri": "https://localhost:8080/"
        },
        "id": "Rve981TF5kXw",
        "outputId": "1a51a526-0bff-42b4-b7f9-e0520612388d"
      },
      "execution_count": null,
      "outputs": [
        {
          "output_type": "stream",
          "name": "stdout",
          "text": [
            "1830.0\n",
            "다이아몬드: 10.0\n",
            "루비: 0.0\n",
            "토파즈: 16.0\n",
            "에메랄드: 14.0\n",
            "사파이어: 10.0\n"
          ]
        }
      ]
    },
    {
      "cell_type": "code",
      "source": [],
      "metadata": {
        "colab": {
          "base_uri": "https://localhost:8080/"
        },
        "id": "vznfxFh-8eIm",
        "outputId": "21b00107-0446-4c38-a42f-64adc4927ac6"
      },
      "execution_count": null,
      "outputs": [
        {
          "output_type": "stream",
          "name": "stdout",
          "text": [
            "0.3333333333333333\n"
          ]
        }
      ]
    },
    {
      "cell_type": "code",
      "source": [],
      "metadata": {
        "id": "rW1hpYQr9vYE"
      },
      "execution_count": null,
      "outputs": []
    }
  ]
}